{
 "cells": [
  {
   "cell_type": "markdown",
   "id": "52a4b411-36eb-4e42-8ed4-400291d4a2ef",
   "metadata": {},
   "source": [
    "# Proyecto Bucal"
   ]
  },
  {
   "cell_type": "markdown",
   "id": "c693cad5-76cd-41a1-82b5-26fc0bfa9e0b",
   "metadata": {},
   "source": [
    "## Preprocesadio de Imagenes"
   ]
  },
  {
   "cell_type": "markdown",
   "id": "8a5d9fb7-440b-42db-9c27-c0dc88c1399b",
   "metadata": {},
   "source": [
    "### Librerias"
   ]
  },
  {
   "cell_type": "code",
   "execution_count": 1,
   "id": "8bfe2a0e-c8a7-445c-891f-e6312c48fb8c",
   "metadata": {},
   "outputs": [],
   "source": [
    "##Librerias\n",
    "import cv2\n",
    "import os\n",
    "import shutil\n",
    "import math\n",
    "import random\n",
    "import numpy as np\n",
    "import pandas as pd\n",
    "import matplotlib.pyplot as plt\n",
    "\n",
    "from sklearn.metrics import mean_squared_error\n",
    "\n",
    "import warnings\n",
    "warnings.filterwarnings(\"ignore\")\n",
    "\n",
    "import keras\n",
    "from keras.layers import Dense,Conv2D, Flatten, MaxPool2D, Dropout\n",
    "from keras.models import Sequential\n",
    "from keras.preprocessing import image\n",
    "from keras.callbacks import ModelCheckpoint\n",
    "from keras.models import load_model\n",
    "\n"
   ]
  },
  {
   "cell_type": "markdown",
   "id": "f63e7f9b-61e8-4e19-897e-f32127464aed",
   "metadata": {},
   "source": [
    "### Preprocesamiento de Imagenes"
   ]
  },
  {
   "cell_type": "code",
   "execution_count": null,
   "id": "ab1b57f1-6de6-4d5b-8cc0-2ec52c4d295a",
   "metadata": {},
   "outputs": [],
   "source": [
    "# Función para eliminar imágenes duplicadas en el conjunto de datos\n",
    "def findDelDuplImg(file_name , file_dir):\n",
    "    searchedImgPath = os.path.join(file_dir, file_name);\n",
    "    searchedImage = np.array(cv2.imread(searchedImgPath, 0));\n",
    "# Comenzar a iterar sobre todas las imágenes.\n",
    "    for cmpImageName in os.listdir(file_dir):\n",
    "        if cmpImageName != file_name:\n",
    "           # Si el nombre es diferente\n",
    "            try:\n",
    "                # Concatenar ruta a la imagen\n",
    "                cmpImagePath = os.path.join(file_dir, cmpImageName);\n",
    "                # Abrir imagen para comparar\n",
    "                cmpImage = np.array(cv2.imread(cmpImagePath, 0))\n",
    "                # Cuente la raíz cuadrática media entre ambas imágenes (RMS)\n",
    "                rms = math.sqrt(mean_squared_error(searchedImage, cmpImage))\n",
    "            except:\n",
    "                continue\n",
    "            # Si RMS es menor que 3, esto significa que las imágenes son similares o iguales\n",
    "            if rms < 3:\n",
    "                # Eliminar la misma imagen en el directorio\n",
    "                os.remove(cmpImagePath);\n",
    "\n",
    "# Función para preprocesamiento de imágenes\n",
    "def processDataset(dataset_src, dataset_dest):\n",
    " # Hacer una copia del conjunto de datos\n",
    "    shutil.copytree(src, dest)\n",
    "    for folder in os.listdir(dest):\n",
    "        for (index, file) in enumerate(os.listdir(os.path.join(dest, folder)), start = 1):\n",
    "            filename = f'img_{folder}_{index}.jpg';\n",
    "            img_src = os.path.join(dest, folder, file);\n",
    "            img_des = os.path.join(dest, folder, filename);\n",
    "            # Preprocesar las imágenes.\n",
    "            # Comprueba que no se pueda abrir y envia un mensaje, de lo contrario la procesa.\n",
    "            img = cv2.imread(img_src);\n",
    "\n",
    "            if img is None:\n",
    "                print(\"Error: No se pudo cargar la imagen\", img_src)\n",
    "\n",
    "            else:\n",
    "\n",
    "                img = cv2.resize(img, (256, 256));\n",
    "                img = cv2.copyMakeBorder(img, 2, 2, 2, 2, cv2.BORDER_CONSTANT, value=0);\n",
    "                img = cv2.blur(img, (2, 2));\n",
    "                cv2.imwrite(img_des ,img);\n",
    "                os.remove(img_src);\n",
    "        for file in os.listdir(os.path.join(dest, folder)):\n",
    "                # Encuentra imágenes duplicadas y elimina duplicados.\n",
    "                findDelDuplImg(file, os.path.join(dest, folder));\n",
    "\n",
    "# Ubicación de origen para el conjunto de datos\n",
    "src = r'C:\\Users\\Eduardo\\Desktop\\Eduardo\\Proyecto_Bucal\\DataSet\\DataSet_Kaagle_2.0\\Preprocesadas';\n",
    "# Ubicación de destino para el conjunto de datos\n",
    "dest = r'C:\\Users\\Eduardo\\Desktop\\Eduardo\\Proyecto_Bucal\\DataSet\\DataSet_Kaagle_2.0\\Procesadas';\n",
    "# Preprocesamiento de imágenes\n",
    "processDataset(src, dest);"
   ]
  }
 ],
 "metadata": {
  "kernelspec": {
   "display_name": "Python 3 (ipykernel)",
   "language": "python",
   "name": "python3"
  },
  "language_info": {
   "codemirror_mode": {
    "name": "ipython",
    "version": 3
   },
   "file_extension": ".py",
   "mimetype": "text/x-python",
   "name": "python",
   "nbconvert_exporter": "python",
   "pygments_lexer": "ipython3",
   "version": "3.11.7"
  }
 },
 "nbformat": 4,
 "nbformat_minor": 5
}
